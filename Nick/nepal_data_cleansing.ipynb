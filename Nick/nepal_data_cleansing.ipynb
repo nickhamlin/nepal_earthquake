{
 "cells": [
  {
   "cell_type": "code",
   "execution_count": 38,
   "metadata": {
    "collapsed": false
   },
   "outputs": [
    {
     "data": {
      "text/plain": [
       "'/Users/nicholashamlin/Documents/Grad School/207 - Machine Learning/Projects/2015_fall_coursework/Projects'"
      ]
     },
     "execution_count": 38,
     "metadata": {},
     "output_type": "execute_result"
    }
   ],
   "source": [
    "import pandas as pd\n",
    "import numpy as np\n",
    "import os\n",
    "os.getcwd()"
   ]
  },
  {
   "cell_type": "code",
   "execution_count": 13,
   "metadata": {
    "collapsed": true
   },
   "outputs": [],
   "source": [
    "f=open('Micro_Citizens_Round1_FINAL2-1 (1).csv','rb')\n",
    "data=pd.read_csv(f)\n",
    "f.close()"
   ]
  },
  {
   "cell_type": "code",
   "execution_count": 8,
   "metadata": {
    "collapsed": false
   },
   "outputs": [
    {
     "data": {
      "text/plain": [
       "pandas.core.frame.DataFrame"
      ]
     },
     "execution_count": 8,
     "metadata": {},
     "output_type": "execute_result"
    }
   ],
   "source": [
    "type(data)"
   ]
  },
  {
   "cell_type": "code",
   "execution_count": 49,
   "metadata": {
    "collapsed": false
   },
   "outputs": [],
   "source": [
    "#Data Cleansing\n",
    "data['District']=data['District'].str.upper()\n",
    "#data['Answer']=data['Are_your_main_problems_being_a'].str[0]\n",
    "\n",
    "responses= {\"1___not_at_all\":1 ,\"2___very_little\" :2,\"3___neutral\":3,\"don_t_know\":None,\"4___mostly_yes\":4,\"5___completely_yes\":5,\"refused \":None}\n",
    "data['Answer'] = data['Are_your_main_problems_being_a'].replace(responses)\n",
    "# now convert the types\n",
    "data['Answer'] = data['Answer'].convert_objects(convert_numeric=True)\n"
   ]
  },
  {
   "cell_type": "code",
   "execution_count": 53,
   "metadata": {
    "collapsed": false
   },
   "outputs": [],
   "source": [
    "#Aggregating\n",
    "grouped=data.groupby(['District'])\n",
    "grouped_answer=grouped['Answer']\n",
    "grouped_answer.head()\n",
    "output=grouped_answer.aggregate(np.mean)\n"
   ]
  },
  {
   "cell_type": "code",
   "execution_count": 54,
   "metadata": {
    "collapsed": false
   },
   "outputs": [],
   "source": [
    "output.to_csv('district_output.csv')"
   ]
  }
 ],
 "metadata": {
  "kernelspec": {
   "display_name": "Python 2",
   "language": "python",
   "name": "python2"
  },
  "language_info": {
   "codemirror_mode": {
    "name": "ipython",
    "version": 2
   },
   "file_extension": ".py",
   "mimetype": "text/x-python",
   "name": "python",
   "nbconvert_exporter": "python",
   "pygments_lexer": "ipython2",
   "version": "2.7.10"
  }
 },
 "nbformat": 4,
 "nbformat_minor": 0
}
