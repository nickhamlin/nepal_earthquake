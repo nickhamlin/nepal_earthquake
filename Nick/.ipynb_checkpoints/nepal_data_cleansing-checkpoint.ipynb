{
 "cells": [
  {
   "cell_type": "code",
   "execution_count": 11,
   "metadata": {
    "collapsed": false
   },
   "outputs": [
    {
     "data": {
      "text/plain": [
       "'/Users/nicholashamlin/Documents/Grad School/209 - Data Visualization/W209-3/Nick'"
      ]
     },
     "execution_count": 11,
     "metadata": {},
     "output_type": "execute_result"
    }
   ],
   "source": [
    "import pandas as pd\n",
    "import numpy as np\n",
    "import os\n",
    "import json\n",
    "os.getcwd()"
   ]
  },
  {
   "cell_type": "code",
   "execution_count": 88,
   "metadata": {
    "collapsed": true
   },
   "outputs": [],
   "source": [
    "#Load raw data as pandas dataframe for easy munging\n",
    "f=open('Micro_Citizens_Round1_FINAL2-1 (1).csv','rb')\n",
    "survey_data=pd.read_csv(f)\n",
    "f.close()\n",
    "#load geojson as regular json (not pandas)\n",
    "j=open('district_data.geojson','rb')\n",
    "geo_data=json.load(j)\n",
    "j.close()"
   ]
  },
  {
   "cell_type": "code",
   "execution_count": 89,
   "metadata": {
    "collapsed": false
   },
   "outputs": [],
   "source": [
    "def update_json(name_to_insert,grouped_data,data_to_update):\n",
    "    \"\"\"given a new column name, a grouped series, and json object, write new properties\"\"\"\n",
    "    for i in data_to_update['features']:\n",
    "        try:\n",
    "            i['properties'][name_to_insert]=grouped_data[i['properties']['DISTRICT']]\n",
    "        except KeyError:\n",
    "            i['properties'][name_to_insert]=0"
   ]
  },
  {
   "cell_type": "code",
   "execution_count": 90,
   "metadata": {
    "collapsed": false
   },
   "outputs": [],
   "source": [
    "#Data Cleansing\n",
    "#data['District']=data['District'].str.upper()\n",
    "#data['Answer']=data['Are_your_main_problems_being_a'].str[0]\n",
    "\n",
    "responses= {\"1___not_at_all\":1 ,\"2___very_little\" :2,\"2___not_very_m\" :2,\"3___neutral\":3,\"don_t_know\":None,\"4___mostly_yes\":4,\"5___completely_yes\":5,\"refused \":None}\n",
    "\n",
    "questions=['Are_your_main_problems_being_a','Do_you_feel_you_have_been_hear']\n",
    "\n",
    "for q in questions:\n",
    "    data[q+'_processed'] = data[q].replace(responses)\n",
    "    # now convert the types\n",
    "    data[q+'_processed'] = data[q+'_processed'].convert_objects(convert_numeric=True)\n",
    "    \n",
    "    #Aggregate results and save to geojson\n",
    "    grouped=data.groupby(['District'])\n",
    "    grouped_answer=grouped[q+'_processed']\n",
    "\n",
    "    output=grouped_answer.aggregate(np.mean)\n",
    "    update_json(q,output,geo_data)"
   ]
  },
  {
   "cell_type": "code",
   "execution_count": 91,
   "metadata": {
    "collapsed": false
   },
   "outputs": [],
   "source": [
    "for i in geo_data['features']:\n",
    "    i['properties']['District']=i['properties'].pop('DISTRICT').title()"
   ]
  },
  {
   "cell_type": "code",
   "execution_count": 94,
   "metadata": {
    "collapsed": false
   },
   "outputs": [
    {
     "data": {
      "text/plain": [
       "{'Are_your_main_problems_being_a': 0,\n",
       " 'District': u'Humla',\n",
       " 'Do_you_feel_you_have_been_hear': 0,\n",
       " u'needs': 0}"
      ]
     },
     "execution_count": 94,
     "metadata": {},
     "output_type": "execute_result"
    }
   ],
   "source": [
    "#Check one example\n",
    "geo_data['features'][0]['properties']"
   ]
  },
  {
   "cell_type": "code",
   "execution_count": 93,
   "metadata": {
    "collapsed": true
   },
   "outputs": [],
   "source": [
    "#save results\n",
    "t=open('test.geojson','wb')\n",
    "json.dump(geo_data,t)\n",
    "t.close()"
   ]
  },
  {
   "cell_type": "code",
   "execution_count": null,
   "metadata": {
    "collapsed": true
   },
   "outputs": [],
   "source": []
  }
 ],
 "metadata": {
  "kernelspec": {
   "display_name": "Python 2",
   "language": "python",
   "name": "python2"
  },
  "language_info": {
   "codemirror_mode": {
    "name": "ipython",
    "version": 2
   },
   "file_extension": ".py",
   "mimetype": "text/x-python",
   "name": "python",
   "nbconvert_exporter": "python",
   "pygments_lexer": "ipython2",
   "version": "2.7.10"
  }
 },
 "nbformat": 4,
 "nbformat_minor": 0
}
