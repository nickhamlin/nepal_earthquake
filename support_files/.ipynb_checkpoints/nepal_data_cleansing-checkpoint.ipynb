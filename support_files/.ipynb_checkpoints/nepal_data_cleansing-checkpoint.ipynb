{
 "cells": [
  {
   "cell_type": "code",
   "execution_count": 6,
   "metadata": {
    "collapsed": false
   },
   "outputs": [
    {
     "data": {
      "text/plain": [
       "'/Users/nicholashamlin/Documents/Grad School/209 - Data Visualization/W209-3/Nick'"
      ]
     },
     "execution_count": 6,
     "metadata": {},
     "output_type": "execute_result"
    }
   ],
   "source": [
    "import pandas as pd\n",
    "import numpy as np\n",
    "import os\n",
    "import json\n",
    "os.getcwd()"
   ]
  },
  {
   "cell_type": "code",
   "execution_count": 7,
   "metadata": {
    "collapsed": true
   },
   "outputs": [],
   "source": [
    "#Load raw data as pandas dataframe for easy munging\n",
    "#f=open('Micro_Citizens_Round1_FINAL2-1 (1).csv','rb')\n",
    "f=open('cleaned_survey_data.csv','rb')\n",
    "survey_data=pd.read_csv(f)\n",
    "f.close()\n",
    "#load geojson as regular json (not pandas)\n",
    "j=open('district_data.geojson','rb')\n",
    "geo_data=json.load(j)\n",
    "j.close()"
   ]
  },
  {
   "cell_type": "code",
   "execution_count": 8,
   "metadata": {
    "collapsed": false
   },
   "outputs": [],
   "source": [
    "for i in geo_data['features']:\n",
    "    i['properties']['District']=i['properties'].pop('DISTRICT').title()"
   ]
  },
  {
   "cell_type": "code",
   "execution_count": 9,
   "metadata": {
    "collapsed": false
   },
   "outputs": [],
   "source": [
    "survey_data['District']=survey_data['District'].str.title()"
   ]
  },
  {
   "cell_type": "code",
   "execution_count": 10,
   "metadata": {
    "collapsed": false
   },
   "outputs": [],
   "source": [
    "def update_json(name_to_insert,grouped_data,data_to_update):\n",
    "    \"\"\"given a new column name, a grouped series, and json object, write new properties\"\"\"\n",
    "    for i in data_to_update['features']:\n",
    "        try:\n",
    "            i['properties'][name_to_insert]=grouped_data[i['properties']['District']]\n",
    "        except KeyError:\n",
    "            #print i['properties']\n",
    "            #print grouped_data[i['properties']['DISTRICT']]\n",
    "            i['properties'][name_to_insert]=None"
   ]
  },
  {
   "cell_type": "code",
   "execution_count": 11,
   "metadata": {
    "collapsed": false
   },
   "outputs": [],
   "source": [
    "#Data Cleansing\n",
    "#data['District']=data['District'].str.upper()\n",
    "#data['Answer']=data['Are_your_main_problems_being_a'].str[0]\n",
    "\n",
    "responses= {\"1___not_at_all\":1 ,\"2___very_little\" :2,\"2___not_very_m\" :2,\"3___neutral\":3,\"don_t_know\":None,\"4___mostly_yes\":4,\"5___completely_yes\":5,\"refused \":None}\n",
    "\n",
    "questions=['Are_your_main_problems_being_a','Do_you_feel_you_have_been_hear']\n",
    "\n",
    "for q in questions:\n",
    "    survey_data[q+'_processed'] = survey_data[q].replace(responses)\n",
    "    # now convert the types\n",
    "    survey_data[q+'_processed'] = survey_data[q+'_processed'].convert_objects(convert_numeric=True)\n",
    "    \n",
    "    #Aggregate results and save to geojson\n",
    "    grouped=survey_data.groupby(['District'])\n",
    "    grouped_answer=grouped[q+'_processed']\n",
    "\n",
    "    output=grouped_answer.aggregate(np.mean)\n",
    "    update_json(q,output,geo_data)"
   ]
  },
  {
   "cell_type": "code",
   "execution_count": 12,
   "metadata": {
    "collapsed": false
   },
   "outputs": [
    {
     "data": {
      "text/plain": [
       "{'Are_your_main_problems_being_a': 1.5252525252525253,\n",
       " 'District': u'Sindhupalchok',\n",
       " 'Do_you_feel_you_have_been_hear': 1.4204545454545454,\n",
       " u'needs': 1.525}"
      ]
     },
     "execution_count": 12,
     "metadata": {},
     "output_type": "execute_result"
    }
   ],
   "source": [
    "#Check one example\n",
    "geo_data['features'][36]['properties']"
   ]
  },
  {
   "cell_type": "code",
   "execution_count": 13,
   "metadata": {
    "collapsed": false
   },
   "outputs": [
    {
     "name": "stdout",
     "output_type": "stream",
     "text": [
      "0 Humla\n",
      "1 Darchula\n",
      "2 Bajhang\n",
      "3 Mugu\n",
      "4 Bajura\n",
      "5 Baitadi\n",
      "6 Dolpa\n",
      "7 Jumla\n",
      "8 Kalikot\n",
      "9 Doti\n",
      "10 Dadeldhura\n",
      "11 Achham\n",
      "12 Mustang\n",
      "13 Dailekh\n",
      "14 Jajarkot\n",
      "15 Kanchanpur\n",
      "16 Kailali\n",
      "17 Rukum\n",
      "18 Surkhet\n",
      "19 Manang\n",
      "20 Myagdi\n",
      "21 Gorkha\n",
      "22 Bardiya\n",
      "23 Salyan\n",
      "24 Baglung\n",
      "25 Kaski\n",
      "26 Rolpa\n",
      "27 Lamjung\n",
      "28 Parbat\n",
      "29 Rasuwa\n",
      "30 Pyuthan\n",
      "31 Dhading\n",
      "32 Banke\n",
      "33 Gulmi\n",
      "34 Dang\n",
      "35 Syangja\n",
      "36 Sindhupalchok\n",
      "37 Dolakha\n",
      "38 Tanahu\n",
      "39 Arghakhanchi\n",
      "40 Solukhumbu\n",
      "41 Nuwakot\n",
      "42 Sankhuwasabha\n",
      "43 Palpa\n",
      "44 Taplejung\n",
      "45 Chitwan\n",
      "46 Nawalparasi\n",
      "47 Kapilbastu\n",
      "48 Ramechhap\n",
      "49 Kathmandu\n",
      "50 Rupandehi\n",
      "51 Kavre\n",
      "52 Bhaktapur\n",
      "53 Makwanpur\n",
      "54 Lalitpur\n",
      "55 Okhaldhunga\n",
      "56 Bhojpur\n",
      "57 Parsa\n",
      "58 Sindhuli\n",
      "59 Khotang\n",
      "60 Panchthar\n",
      "61 Bara\n",
      "62 Tehrathum\n",
      "63 Rautahat\n",
      "64 Dhankuta\n",
      "65 Sarlahi\n",
      "66 Udayapur\n",
      "67 Mahottari\n",
      "68 Ilam\n",
      "69 Dhanusa\n",
      "70 Siraha\n",
      "71 Saptari\n",
      "72 Morang\n",
      "73 Sunsari\n",
      "74 Jhapa\n"
     ]
    }
   ],
   "source": [
    "#Use this to lookup an index for a particular district\n",
    "for k,i in enumerate(geo_data['features']):\n",
    "    print str(k)+\" \"+i['properties']['District']"
   ]
  },
  {
   "cell_type": "code",
   "execution_count": 15,
   "metadata": {
    "collapsed": true
   },
   "outputs": [],
   "source": [
    "#save results\n",
    "t=open('feedback_map.geojson','wb')\n",
    "json.dump(geo_data,t)\n",
    "t.close()"
   ]
  },
  {
   "cell_type": "code",
   "execution_count": null,
   "metadata": {
    "collapsed": true
   },
   "outputs": [],
   "source": []
  }
 ],
 "metadata": {
  "kernelspec": {
   "display_name": "Python 2",
   "language": "python",
   "name": "python2"
  },
  "language_info": {
   "codemirror_mode": {
    "name": "ipython",
    "version": 2
   },
   "file_extension": ".py",
   "mimetype": "text/x-python",
   "name": "python",
   "nbconvert_exporter": "python",
   "pygments_lexer": "ipython2",
   "version": "2.7.10"
  }
 },
 "nbformat": 4,
 "nbformat_minor": 0
}
